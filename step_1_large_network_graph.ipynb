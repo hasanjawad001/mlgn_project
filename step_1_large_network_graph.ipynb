{
 "cells": [
  {
   "cell_type": "code",
   "execution_count": 2,
   "metadata": {},
   "outputs": [],
   "source": [
    "### import\n",
    "import json\n",
    "import csv\n",
    "import pandas as pd\n",
    "import networkx as nx\n",
    "import math\n",
    "from matplotlib import pylab\n",
    "from matplotlib import pyplot as plt"
   ]
  },
  {
   "cell_type": "code",
   "execution_count": 2,
   "metadata": {},
   "outputs": [],
   "source": [
    "### single instance example from raw data\n",
    "# {\n",
    "#     \"attachment\":{\n",
    "#         \"type\":null,\n",
    "#         \"value\":null\n",
    "#     },\n",
    "#     \"body\":\"\\u041e\\u0431\\u0435\\u0449\\u0430\\u044e \\u0437\\u0430\\u0431\\u043e\\u0442\\u0438\\u0442\\u044c\\u0441\\u044f \\u043e \\u0442\\u0435\\u0445, \\u043a\\u0442\\u043e \\u0432\\u0430\\u0436\\u0435\\u043d \\u0434\\u043b\\u044f \\u043c\\u0435\\u043d\\u044f. #\\u0412\\u041d\\u043e\\u0432\\u043e\\u043c\\u0413\\u043e\\u0434\\u0443\\u042f\\u041e\\u0431\\u0435\\u0449\\u0430\\u044e\",\n",
    "#     \"body_html\":null,\n",
    "#     \"body_html_summary\":null,\n",
    "#     \"body_html_summary_truncated\":false,\n",
    "#     \"category\":null,\n",
    "#     \"category_details\":null,\n",
    "#     \"conversation_parent_id\":null,\n",
    "#     \"created_at\":\"2017-01-01T00:00:01+00:00\",\n",
    "#     \"created_utc\":1483228801,\n",
    "#     \"dislike_count\":0,\n",
    "#     \"edited\":false,\n",
    "#     \"embed\":{\n",
    "#         \"html\":null,\n",
    "#         \"iframe\":null\n",
    "#     },\n",
    "#     \"id\":3489400,\n",
    "#     \"is_locked\":false,\n",
    "#     \"is_premium\":false,\n",
    "#     \"is_quote\":false,\n",
    "#     \"is_replies_disabled\":false,\n",
    "#     \"is_reply\":false,\n",
    "#     \"language\":null,\n",
    "#     \"like_count\":0,\n",
    "#     \"nsfw\":false,\n",
    "#     \"only_emoji\":false,\n",
    "#     \"parent_id\":null,\n",
    "#     \"quote_conversation_parent_id\":null,\n",
    "#     \"reply_count\":0,\n",
    "#     \"repost_count\":0,\n",
    "#     \"retrieved_utc\":1518257233,\n",
    "#     \"revised_at\":null,\n",
    "#     \"revised_utc\":null,\n",
    "#     \"score\":0,\n",
    "#     \"user\":{\n",
    "#         \"id\":65574,\n",
    "#         \"is_donor\":false,\n",
    "#         \"is_investor\":false,\n",
    "#         \"is_premium\":false,\n",
    "#         \"is_private\":false,\n",
    "#         \"is_pro\":false,\n",
    "#         \"name\":\"Dimitri Vladimirovich Metkov\",\n",
    "#         \"picture_url\":\"https://files.gab.ai/user/5835734e4d7dc.jpg\",\n",
    "#         \"username\":\"dima_metkov\",\n",
    "#         \"verified\":false\n",
    "#     }\n",
    "# }"
   ]
  },
  {
   "cell_type": "code",
   "execution_count": 3,
   "metadata": {},
   "outputs": [],
   "source": [
    "### data raw to data json\n",
    "list_file_input_raw = [\n",
    "    'datasets/GABPOSTS_2017-01', 'datasets/GABPOSTS_2017-02', 'datasets/GABPOSTS_2017-03',\n",
    "    'datasets/GABPOSTS_2017-04', 'datasets/GABPOSTS_2017-05', 'datasets/GABPOSTS_2017-06'\n",
    "]\n",
    "file_output_raw_name = \"datasets/gab_2017_from_01_to_06.json\"\n",
    "# list_file_input_raw = ['datasets/GABPOSTS_2017-01']\n",
    "# file_output_raw_name = \"datasets/gab_2017_01.json\"\n",
    "list_post = []\n",
    "for fir in list_file_input_raw:\n",
    "    print(len(list_post))\n",
    "    for line in open(fir, 'r'):\n",
    "        list_post.append(json.loads(line))  \n",
    "file_output_raw = open(file_output_raw_name, \"w\")\n",
    "json.dump(list_post, file_output_raw)\n",
    "file_output_raw.close()"
   ]
  },
  {
   "cell_type": "code",
   "execution_count": null,
   "metadata": {},
   "outputs": [],
   "source": []
  },
  {
   "cell_type": "code",
   "execution_count": 5,
   "metadata": {},
   "outputs": [],
   "source": [
    "### data flattening and filter\n",
    "# file_output_raw = open(\"datasets/gab_2017_01.json\", \"r\")\n",
    "file_output_raw = open(\"datasets/gab_2017_from_01_to_06.json\", \"r\")\n",
    "list_post= json.load(file_output_raw)\n",
    "list_flat_post = []\n",
    "c=0\n",
    "for p in list_post:\n",
    "    c+=1\n",
    "    if c%100000==0:\n",
    "        print(c/100000)\n",
    "    e = {}\n",
    "    e['id'] = p['id'] if 'id' in p.keys() else ''\n",
    "    e['parent_id'] = p['parent_id'] if 'parent_id' in p.keys() else ''\n",
    "    e['user__id'] = p['user']['id'] if 'user' in p.keys() and 'id' in p['user'].keys() else ''\n",
    "\n",
    "    e['body'] = p['body'] if 'body' in p.keys() else ''    \n",
    "    e['category_details__title'] = p['category_details']['title'] if 'category_details' in p.keys() \\\n",
    "        and p['category_details'] and 'title' in p['category_details'].keys() else ''\n",
    "    e['category_details__value'] = p['category_details']['value'] if 'category_details' in p.keys() \\\n",
    "        and p['category_details'] and 'value' in p['category_details'].keys() else ''\n",
    "\n",
    "    e['like_count'] = p['like_count'] if 'like_count' in p.keys() else '' \n",
    "    e['dislike_count'] = p['dislike_count'] if 'dislike_count' in p.keys() else '' \n",
    "    e['reply_count'] = p['reply_count'] if 'reply_count' in p.keys() else '' \n",
    "    e['repost_count'] = p['repost_count'] if 'repost_count' in p.keys() else '' \n",
    "    e['is_quote'] = p['is_quote'] if 'is_quote' in p.keys() else '' \n",
    "    e['is_reply'] = p['is_reply'] if 'is_reply' in p.keys() else '' \n",
    "\n",
    "    e['created_at'] = p['created_at'] if 'created_at' in p.keys() else '' \n",
    "    e['created_utc'] = p['created_utc'] if 'created_utc' in p.keys() else '' \n",
    "    e['edited'] = p['edited'] if 'edited' in p.keys() else '' \n",
    "\n",
    "#     e['attachment__type'] = p['attachment']['type']\n",
    "#     e['attachment__value'] = p['attachment']['value']    \n",
    "#     e['body_html'] = p['body_html']\n",
    "#     e['body_html_summary'] = p['body_html_summary']\n",
    "#     e['body_html_summary_truncated'] = p['body_html_summary_truncated']\n",
    "#     e['category'] = p['category']\n",
    "#     e['category_details__emoji'] = p['category_details']['emoji']\n",
    "#     e['category_details__slug'] = p['category_details']['slug']\n",
    "#     e['conversation_parent_id'] = p['conversation_parent_id']\n",
    "#     e['embed__html'] = p['embed']['html']\n",
    "#     e['embed__iframe'] = p['embed']['iframe']    \n",
    "#     e['is_locked'] = p['is_locked']\n",
    "#     e['is_premium'] = p['is_premium']\n",
    "#     e['is_replies_disabled'] = p['is_replies_disabled']\n",
    "#     e['language'] = p['language']\n",
    "#     e['nsfw'] = p['nsfw']\n",
    "#     e['only_emoji'] = p['only_emoji']\n",
    "#     e['quote_conversation_parent_id'] = p['quote_conversation_parent_id']\n",
    "#     e['retrieved_utc'] = p['retrieved_utc']\n",
    "#     e['revised_at'] = p['revised_at']\n",
    "#     e['revised_utc'] = p['revised_utc']\n",
    "#     e['score'] = p['score']\n",
    "#     e['user__is_donor'] = p['user']['is_donor']\n",
    "#     e['user__is_investor'] = p['user']['is_investor']\n",
    "#     e['user__is_premium'] = p['user']['is_premium']\n",
    "#     e['user__is_private'] = p['user']['is_private']\n",
    "#     e['user__is_pro'] = p['user']['is_pro']\n",
    "#     e['user__picture_url'] = p['user']['picture_url']\n",
    "#     e['user__username'] = p['user']['username']\n",
    "#     e['user__name'] = p['user']['name']\n",
    "#     e['user__verified'] = p['user']['verified']\n",
    "\n",
    "    list_flat_post.append(e)"
   ]
  },
  {
   "cell_type": "code",
   "execution_count": null,
   "metadata": {},
   "outputs": [],
   "source": []
  },
  {
   "cell_type": "code",
   "execution_count": 10,
   "metadata": {},
   "outputs": [],
   "source": [
    "### flattened and filtered data to csv\n",
    "csv_columns = list(list_flat_post[0].keys())\n",
    "csv_file = \"datasets/gab_2017_from_01_to_06.csv\"\n",
    "try:\n",
    "    with open(csv_file, 'w', encoding=\"utf-8\", newline='') as csvfile:\n",
    "        writer = csv.DictWriter(csvfile, fieldnames=csv_columns)\n",
    "        writer.writeheader()\n",
    "        c=0\n",
    "        for fp in list_flat_post:\n",
    "            writer.writerow(fp)\n",
    "            c+=1\n",
    "            if c%100000==0:\n",
    "                print(c/100000)\n",
    "except Exception as e:\n",
    "    print(e)"
   ]
  },
  {
   "cell_type": "code",
   "execution_count": null,
   "metadata": {},
   "outputs": [],
   "source": []
  },
  {
   "cell_type": "markdown",
   "metadata": {},
   "source": [
    "### large network analysis "
   ]
  },
  {
   "cell_type": "code",
   "execution_count": 3,
   "metadata": {},
   "outputs": [],
   "source": [
    "### networkX implementation\n",
    "df=pd.read_csv('datasets/gab_2017_from_01_to_06.csv', sep=',', header=0) \n",
    "m=df.values"
   ]
  },
  {
   "cell_type": "code",
   "execution_count": 4,
   "metadata": {},
   "outputs": [],
   "source": [
    "### post info\n",
    "dict_post_info = {}\n",
    "for r in range(m.shape[0]):\n",
    "    _id = m[r][0]\n",
    "    _parent_id = m[r][1] if m[r][1] else ''\n",
    "    _user_id = m[r][2] if m[r][2] else ''\n",
    "    dict_post_info[_id] = {\n",
    "        'parent_id': _parent_id,\n",
    "        'user_id': _user_id\n",
    "    }"
   ]
  },
  {
   "cell_type": "code",
   "execution_count": 5,
   "metadata": {},
   "outputs": [],
   "source": [
    "### user info\n",
    "dict_user_info = {}\n",
    "for k,v in dict_post_info.items():\n",
    "    if v['user_id'] not in dict_user_info.keys():\n",
    "        dict_user_info[v['user_id']] = []\n",
    "    if not math.isnan(v['parent_id']) and v['parent_id'] in dict_post_info.keys():\n",
    "        if dict_post_info[v['parent_id']]['user_id'] not in dict_user_info[v['user_id']]:\n",
    "            dict_user_info[v['user_id']].append(dict_post_info[v['parent_id']]['user_id'])"
   ]
  },
  {
   "cell_type": "code",
   "execution_count": 6,
   "metadata": {},
   "outputs": [],
   "source": [
    "### node,edge(child user -> parent user)\n",
    "list_node = dict_user_info.keys()\n",
    "list_edge = []\n",
    "for k,v in dict_user_info.items():\n",
    "    if len(v) > 0:\n",
    "        for pu in v:\n",
    "            edge = (k,pu)\n",
    "            list_edge.append(edge)"
   ]
  },
  {
   "cell_type": "code",
   "execution_count": null,
   "metadata": {},
   "outputs": [],
   "source": []
  },
  {
   "cell_type": "code",
   "execution_count": 7,
   "metadata": {},
   "outputs": [],
   "source": [
    "### DiGraph formation\n",
    "G = nx.DiGraph()\n",
    "G.add_nodes_from(list_node)\n",
    "G.add_edges_from(list_edge)"
   ]
  },
  {
   "cell_type": "code",
   "execution_count": 12,
   "metadata": {},
   "outputs": [
    {
     "name": "stdout",
     "output_type": "stream",
     "text": [
      "16740\n",
      "27083\n",
      "624690\n"
     ]
    }
   ],
   "source": [
    "### connected components\n",
    "nwcc = len(list(nx.weakly_connected_components(G)))\n",
    "lwcc = G.subgraph(sorted(nx.weakly_connected_components(G), key=len, reverse=True)[0])\n",
    "nnodes = lwcc.number_of_nodes()\n",
    "nedges = lwcc.number_of_edges()\n",
    "print(nwcc)\n",
    "print(nnodes)\n",
    "print(nedges)"
   ]
  },
  {
   "cell_type": "code",
   "execution_count": 13,
   "metadata": {},
   "outputs": [
    {
     "name": "stdout",
     "output_type": "stream",
     "text": [
      "0.11584645944034744\n"
     ]
    }
   ],
   "source": [
    "### clustering coeff\n",
    "print(nx.average_clustering(G))"
   ]
  },
  {
   "cell_type": "code",
   "execution_count": null,
   "metadata": {},
   "outputs": [],
   "source": []
  },
  {
   "cell_type": "code",
   "execution_count": null,
   "metadata": {},
   "outputs": [],
   "source": []
  },
  {
   "cell_type": "code",
   "execution_count": null,
   "metadata": {},
   "outputs": [],
   "source": []
  }
 ],
 "metadata": {
  "kernelspec": {
   "display_name": "Python 3",
   "language": "python",
   "name": "python3"
  },
  "language_info": {
   "codemirror_mode": {
    "name": "ipython",
    "version": 3
   },
   "file_extension": ".py",
   "mimetype": "text/x-python",
   "name": "python",
   "nbconvert_exporter": "python",
   "pygments_lexer": "ipython3",
   "version": "3.7.7"
  }
 },
 "nbformat": 4,
 "nbformat_minor": 4
}
